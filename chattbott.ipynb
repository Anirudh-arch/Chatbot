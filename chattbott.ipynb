{
  "nbformat": 4,
  "nbformat_minor": 0,
  "metadata": {
    "colab": {
      "name": "chattbott.ipynb",
      "provenance": [],
      "collapsed_sections": []
    },
    "kernelspec": {
      "name": "python3",
      "display_name": "Python 3"
    },
    "language_info": {
      "name": "python"
    }
  },
  "cells": [
    {
      "cell_type": "code",
      "metadata": {
        "colab": {
          "base_uri": "https://localhost:8080/"
        },
        "id": "w_M51zwJzZT8",
        "outputId": "681d1775-373e-4406-bf41-5a4b16c484b7"
      },
      "source": [
        "!pip install chatterbot==0.8.6"
      ],
      "execution_count": 8,
      "outputs": [
        {
          "output_type": "stream",
          "name": "stdout",
          "text": [
            "Requirement already satisfied: chatterbot==0.8.6 in /usr/local/lib/python3.7/dist-packages (0.8.6)\n",
            "Requirement already satisfied: nltk<4.0,>=3.2 in /usr/local/lib/python3.7/dist-packages (from chatterbot==0.8.6) (3.2.5)\n",
            "Requirement already satisfied: pymongo<4.0,>=3.3 in /usr/local/lib/python3.7/dist-packages (from chatterbot==0.8.6) (3.12.0)\n",
            "Requirement already satisfied: sqlalchemy<1.3,>=1.2 in /usr/local/lib/python3.7/dist-packages (from chatterbot==0.8.6) (1.2.19)\n",
            "Requirement already satisfied: python-dateutil<2.7,>=2.6 in /usr/local/lib/python3.7/dist-packages (from chatterbot==0.8.6) (2.6.1)\n",
            "Requirement already satisfied: mathparse<0.2,>=0.1 in /usr/local/lib/python3.7/dist-packages (from chatterbot==0.8.6) (0.1.2)\n",
            "Requirement already satisfied: python-twitter<4.0,>=3.0 in /usr/local/lib/python3.7/dist-packages (from chatterbot==0.8.6) (3.5)\n",
            "Requirement already satisfied: chatterbot-corpus<1.2,>=1.1 in /usr/local/lib/python3.7/dist-packages (from chatterbot==0.8.6) (1.1.4)\n",
            "Requirement already satisfied: PyYAML<4.0,>=3.12 in /usr/local/lib/python3.7/dist-packages (from chatterbot-corpus<1.2,>=1.1->chatterbot==0.8.6) (3.13)\n",
            "Requirement already satisfied: six in /usr/local/lib/python3.7/dist-packages (from nltk<4.0,>=3.2->chatterbot==0.8.6) (1.15.0)\n",
            "Requirement already satisfied: requests-oauthlib in /usr/local/lib/python3.7/dist-packages (from python-twitter<4.0,>=3.0->chatterbot==0.8.6) (1.3.0)\n",
            "Requirement already satisfied: requests in /usr/local/lib/python3.7/dist-packages (from python-twitter<4.0,>=3.0->chatterbot==0.8.6) (2.23.0)\n",
            "Requirement already satisfied: future in /usr/local/lib/python3.7/dist-packages (from python-twitter<4.0,>=3.0->chatterbot==0.8.6) (0.16.0)\n",
            "Requirement already satisfied: idna<3,>=2.5 in /usr/local/lib/python3.7/dist-packages (from requests->python-twitter<4.0,>=3.0->chatterbot==0.8.6) (2.10)\n",
            "Requirement already satisfied: urllib3!=1.25.0,!=1.25.1,<1.26,>=1.21.1 in /usr/local/lib/python3.7/dist-packages (from requests->python-twitter<4.0,>=3.0->chatterbot==0.8.6) (1.24.3)\n",
            "Requirement already satisfied: certifi>=2017.4.17 in /usr/local/lib/python3.7/dist-packages (from requests->python-twitter<4.0,>=3.0->chatterbot==0.8.6) (2021.5.30)\n",
            "Requirement already satisfied: chardet<4,>=3.0.2 in /usr/local/lib/python3.7/dist-packages (from requests->python-twitter<4.0,>=3.0->chatterbot==0.8.6) (3.0.4)\n",
            "Requirement already satisfied: oauthlib>=3.0.0 in /usr/local/lib/python3.7/dist-packages (from requests-oauthlib->python-twitter<4.0,>=3.0->chatterbot==0.8.6) (3.1.1)\n"
          ]
        }
      ]
    },
    {
      "cell_type": "code",
      "metadata": {
        "id": "aeOaBaxY0J7k"
      },
      "source": [
        "from chatterbot import ChatBot\n",
        "bot=ChatBot('Madhav')"
      ],
      "execution_count": 9,
      "outputs": []
    },
    {
      "cell_type": "code",
      "metadata": {
        "id": "iKAVs76S00l0"
      },
      "source": [
        "from chatterbot.trainers import ChatterBotCorpusTrainer"
      ],
      "execution_count": 10,
      "outputs": []
    },
    {
      "cell_type": "code",
      "metadata": {
        "id": "rpUDdXbS1HBc"
      },
      "source": [
        "bot.set_trainer(ChatterBotCorpusTrainer)"
      ],
      "execution_count": 11,
      "outputs": []
    },
    {
      "cell_type": "code",
      "metadata": {
        "id": "42Yu-wyg1UET",
        "colab": {
          "base_uri": "https://localhost:8080/"
        },
        "outputId": "f4f2472a-f3b3-4dc5-dd23-0f587dbdb53a"
      },
      "source": [
        "bot.train('chatterbot.corpus.english')"
      ],
      "execution_count": 12,
      "outputs": [
        {
          "output_type": "stream",
          "name": "stdout",
          "text": [
            "ai.yml Training: [####################] 100%\n",
            "botprofile.yml Training: [####################] 100%\n",
            "computers.yml Training: [####################] 100%\n",
            "conversations.yml Training: [####################] 100%\n",
            "emotion.yml Training: [####################] 100%\n",
            "food.yml Training: [####################] 100%\n",
            "gossip.yml Training: [####################] 100%\n",
            "greetings.yml Training: [####################] 100%\n",
            "health.yml Training: [####################] 100%\n",
            "history.yml Training: [####################] 100%\n",
            "humor.yml Training: [####################] 100%\n",
            "literature.yml Training: [####################] 100%\n",
            "money.yml Training: [####################] 100%\n",
            "movies.yml Training: [####################] 100%\n",
            "politics.yml Training: [####################] 100%\n",
            "psychology.yml Training: [####################] 100%\n",
            "science.yml Training: [####################] 100%\n",
            "sports.yml Training: [####################] 100%\n",
            "trivia.yml Training: [####################] 100%\n"
          ]
        }
      ]
    },
    {
      "cell_type": "code",
      "metadata": {
        "id": "6CfYjcEP2siA",
        "colab": {
          "base_uri": "https://localhost:8080/"
        },
        "outputId": "2ac0be5e-7c7d-496c-8fcd-babce54b403b"
      },
      "source": [
        "while(True):\n",
        "  message=input('you: ')\n",
        "  if((message=='bye') or (message=='Bye')):\n",
        "    reply ='Nice talking. See you later'\n",
        "    print('{} : {} '.format(bot.name,reply))\n",
        "    break\n",
        "  elif (message=='what is your name?'):\n",
        "    reply ='My name is Madhav '\n",
        "    print('{} : {} '.format(bot.name,reply))\n",
        "  elif (message=='when were you made?'):\n",
        "    reply ='I was made during Mauryas internship at Dlithe '\n",
        "    print('{} : {} '.format(bot.name,reply))\n",
        "  elif (message=='what questions can you answer ?'):\n",
        "    reply ='for the ones which you train me for'\n",
        "    print('{} : {} '.format(bot.name,reply))\n",
        "  else:\n",
        "    reply=bot.get_response(message)\n",
        "    print('{} : {} '.format(bot.name,reply))"
      ],
      "execution_count": 14,
      "outputs": [
        {
          "output_type": "stream",
          "name": "stdout",
          "text": [
            "you: what is your name ?\n",
            "Madhav : I am still young by your standards. \n",
            "you: how are you?\n",
            "Madhav : I am doing well. \n",
            "you: bye\n",
            "Madhav : Nice talking. See you later \n"
          ]
        }
      ]
    }
  ]
}