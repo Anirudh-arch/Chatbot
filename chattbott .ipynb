{
  "nbformat": 4,
  "nbformat_minor": 0,
  "metadata": {
    "colab": {
      "name": "chattbott.ipynb",
      "provenance": [],
      "collapsed_sections": [],
      "toc_visible": true
    },
    "kernelspec": {
      "display_name": "Python 3",
      "name": "python3"
    },
    "language_info": {
      "name": "python"
    }
  },
  "cells": [
    {
      "cell_type": "code",
      "metadata": {
        "id": "w_M51zwJzZT8"
      },
      "source": [
        "!pip install chatterbot==0.8.6"
      ],
      "execution_count": null,
      "outputs": []
    },
    {
      "cell_type": "code",
      "metadata": {
        "id": "aeOaBaxY0J7k"
      },
      "source": [
        "from chatterbot import ChatBot\n",
        "bot=ChatBot('Madhav')"
      ],
      "execution_count": null,
      "outputs": []
    },
    {
      "cell_type": "code",
      "metadata": {
        "id": "iKAVs76S00l0"
      },
      "source": [
        "from chatterbot.trainers import ChatterBotCorpusTrainer"
      ],
      "execution_count": null,
      "outputs": []
    },
    {
      "cell_type": "code",
      "metadata": {
        "id": "rpUDdXbS1HBc"
      },
      "source": [
        "bot.set_trainer(ChatterBotCorpusTrainer)"
      ],
      "execution_count": null,
      "outputs": []
    },
    {
      "cell_type": "code",
      "metadata": {
        "id": "42Yu-wyg1UET"
      },
      "source": [
        "bot.train('chatterbot.corpus.english')"
      ],
      "execution_count": null,
      "outputs": []
    },
    {
      "cell_type": "code",
      "metadata": {
        "colab": {
          "background_save": true,
          "base_uri": "https://localhost:8080/"
        },
        "id": "6CfYjcEP2siA",
        "outputId": "ac6b8063-ba04-4d03-e01a-842b12363730"
      },
      "source": [
        "while(True):\n",
        "  message=input('you: ')\n",
        "  if((message=='bye') or (message=='Bye')):\n",
        "    reply ='Nice talking. See you later'\n",
        "    print('{} : {} '.format(bot.name,reply))\n",
        "    break\n",
        "  elif (message=='what is your name?'):\n",
        "    reply ='My name is Madhav'\n",
        "    print('{} : {} '.format(bot.name,reply))\n",
        "  elif (message=='when were you made?'):\n",
        "    reply ='I was made during Mauryas internship at Dlithe '\n",
        "    print('{} : {} '.format(bot.name,reply))\n",
        "  elif (message=='what questions can you answer ?'):\n",
        "    reply ='for the ones which you train me for'\n",
        "    print('{} : {} '.format(bot.name,reply))\n",
        "  else:\n",
        "    reply=bot.get_response(message)\n",
        "    print('{} : {} '.format(bot.name,reply))"
      ],
      "execution_count": null,
      "outputs": [
        {
          "metadata": {
            "tags": null
          },
          "name": "stdout",
          "output_type": "stream",
          "text": [
            "Garuda : Do you feel? \n",
            "Garuda : Should I be? Did something happen? \n",
            "Garuda : that all depends on the actions of the central bank. \n"
          ]
        }
      ]
    }
  ]
}